{
  "nbformat": 4,
  "nbformat_minor": 0,
  "metadata": {
    "colab": {
      "provenance": [],
      "authorship_tag": "ABX9TyNRwJ7KyZLvxd9jaa+s0tL4",
      "include_colab_link": true
    },
    "kernelspec": {
      "name": "python3",
      "display_name": "Python 3"
    },
    "language_info": {
      "name": "python"
    }
  },
  "cells": [
    {
      "cell_type": "markdown",
      "metadata": {
        "id": "view-in-github",
        "colab_type": "text"
      },
      "source": [
        "<a href=\"https://colab.research.google.com/github/Susanati/funcoespython/blob/main/Fun%C3%A7%C3%A3o_Lambda.ipynb\" target=\"_parent\"><img src=\"https://colab.research.google.com/assets/colab-badge.svg\" alt=\"Open In Colab\"/></a>"
      ]
    },
    {
      "cell_type": "markdown",
      "source": [
        "# **Funções lambda do Python**\n",
        "\n",
        "São funções anônimas, não definidas previamente como é o caso de funções locais criadas usadas o def.\n",
        "São estruturas em apenas uma linha de código. Pode retornar o resuldado para uma variável ou para outra função  EX: map(), reduce() e filter()."
      ],
      "metadata": {
        "id": "chwFIeAZo2NZ"
      }
    },
    {
      "cell_type": "code",
      "execution_count": 4,
      "metadata": {
        "colab": {
          "base_uri": "https://localhost:8080/"
        },
        "id": "PJCshlksowKR",
        "outputId": "73755aa2-7f29-4d27-ae43-a762cfceb051"
      },
      "outputs": [
        {
          "output_type": "stream",
          "name": "stdout",
          "text": [
            "30\n"
          ]
        }
      ],
      "source": [
        "#função padrão\n",
        "\n",
        "def soma (num1, num2):\n",
        "  return num1+num2\n",
        "\n",
        "print (soma(10,20))"
      ]
    },
    {
      "cell_type": "code",
      "source": [
        "#função local permanece no código, podendo ser chamada pelo nome\n",
        "\n",
        "x=50\n",
        "y=100\n",
        "\n",
        "soma (x,y)"
      ],
      "metadata": {
        "colab": {
          "base_uri": "https://localhost:8080/"
        },
        "id": "Csq0tjJKqSXx",
        "outputId": "59d9e471-1280-4eed-b222-aeb2b534ec7d"
      },
      "execution_count": 5,
      "outputs": [
        {
          "output_type": "execute_result",
          "data": {
            "text/plain": [
              "150"
            ]
          },
          "metadata": {},
          "execution_count": 5
        }
      ]
    },
    {
      "cell_type": "code",
      "source": [
        "#criando a primeira função lambda\n",
        "\n",
        "num1 = 100\n",
        "num2 = 200\n",
        "\n",
        "adicao = lambda num1, num2: num1 + num2\n",
        "\n",
        "print (adicao(num1, num2))"
      ],
      "metadata": {
        "colab": {
          "base_uri": "https://localhost:8080/"
        },
        "id": "gXF7QzmLqfE1",
        "outputId": "4c3702ff-8d0f-4954-8838-80e4438f56c0"
      },
      "execution_count": 6,
      "outputs": [
        {
          "output_type": "stream",
          "name": "stdout",
          "text": [
            "300\n"
          ]
        }
      ]
    },
    {
      "cell_type": "code",
      "source": [
        "# realizando a operação acima utilizando uma função lambda\n",
        "# a atribuição da função lambda a uma variável não e uma boa forma de utilizá-la,\n",
        "# mas é uma maneira de entender melhor como lambda funciona\n",
        "\n",
        "soma_lbd = lambda num1, num2: num1 + num2\n",
        "\n",
        "print (\" usando a função lambda: \", soma_lbd (x,y))\n",
        "print (\"usando a função definida:\", soma (x,y))\n"
      ],
      "metadata": {
        "colab": {
          "base_uri": "https://localhost:8080/"
        },
        "id": "G6eClkRKq2AA",
        "outputId": "bd8ebd16-595a-4a04-d31a-1f33b7f3a545"
      },
      "execution_count": 8,
      "outputs": [
        {
          "output_type": "stream",
          "name": "stdout",
          "text": [
            " usando a função lambda:  150\n",
            "usando a função definida: 150\n"
          ]
        }
      ]
    },
    {
      "cell_type": "code",
      "source": [
        "# a forma ideal utilizar lambda e dentro de outros funções,\n",
        "#principamente para resolver problemas\n",
        "# em estruturas de dados iteráveis, como listas, por exemplo:\n",
        "\n",
        "autores = ['Marlos Vinicius', 'João Guilherme', 'Alice Fernandes', 'Paulo Emanoel', 'Paulo Guilherme']\n",
        "\n",
        "print (autores)\n",
        "\n",
        "autores.sort(key = lambda nome: nome.split (' ')[-1].lower())\n",
        "\n",
        "print (autores)\n",
        "\n",
        "autores.sort()\n",
        "\n",
        ""
      ],
      "metadata": {
        "colab": {
          "base_uri": "https://localhost:8080/"
        },
        "id": "BmInhc6csZcy",
        "outputId": "87eac152-6328-4b22-b937-e7245690e57b"
      },
      "execution_count": 11,
      "outputs": [
        {
          "output_type": "stream",
          "name": "stdout",
          "text": [
            "['Marlos Vinicius', 'João Guilherme', 'Alice Fernandes', 'Paulo Emanoel', 'Paulo Guilherme']\n",
            "['Paulo Emanoel', 'Alice Fernandes', 'João Guilherme', 'Paulo Guilherme', 'Marlos Vinicius']\n"
          ]
        }
      ]
    },
    {
      "cell_type": "markdown",
      "source": [
        "# **Função Map()**\n",
        "\n",
        "É uma função builtin de Python\n",
        "O objetivo e aplicar uma função a todos os elemenntos de um lista gerando uma nova lista como resultado."
      ],
      "metadata": {
        "id": "da1vp7gxveE1"
      }
    },
    {
      "cell_type": "code",
      "source": [
        "# aplicando 10% sobre todos os preços de uma lista de preços definidas\n",
        "\n",
        "precos = [10,20,30,40,60,70]\n",
        "\n",
        "def aplica_10 (preco):\n",
        "  return preco * 1.1\n",
        "\n",
        "resultado = list(map(aplica_10,precos))\n",
        "\n",
        "print(\"primeira lista = \",precos,\"\\n\\nSegunda lista 10%=\", resultado)\n"
      ],
      "metadata": {
        "colab": {
          "base_uri": "https://localhost:8080/"
        },
        "id": "qS4MJ_l2vkGk",
        "outputId": "66b41b41-61d5-476a-c8f4-6ef80b0c0d2f"
      },
      "execution_count": 13,
      "outputs": [
        {
          "output_type": "stream",
          "name": "stdout",
          "text": [
            "primeira lista =  [10, 20, 30, 40, 60, 70] \n",
            "\n",
            "Segunda lista 10%= [11.0, 22.0, 33.0, 44.0, 66.0, 77.0]\n"
          ]
        }
      ]
    },
    {
      "cell_type": "code",
      "source": [
        "#mesma função usando função anonima\n",
        "\n",
        "precos_10_lbd = list(map(lambda preco:preco * 1.1, precos))\n",
        "\n",
        "print(\"primeira lista = \",precos,\"\\n\\nSegunda lista 10%=\", precos_10_lbd)"
      ],
      "metadata": {
        "colab": {
          "base_uri": "https://localhost:8080/"
        },
        "id": "7xRFv7Lnxk4g",
        "outputId": "cb35e619-e7e5-4190-a1ef-8a727b0e1e2c"
      },
      "execution_count": 14,
      "outputs": [
        {
          "output_type": "stream",
          "name": "stdout",
          "text": [
            "primeira lista =  [10, 20, 30, 40, 60, 70] \n",
            "\n",
            "Segunda lista 10%= [11.0, 22.0, 33.0, 44.0, 66.0, 77.0]\n"
          ]
        }
      ]
    },
    {
      "cell_type": "markdown",
      "source": [
        "# **Função reduce()**\n",
        "\n",
        "Aplica uma função considerado todos os valores de uam lista, e retorna apenas um resultado.\n",
        "importá-la functools"
      ],
      "metadata": {
        "id": "varA4JT-yD7s"
      }
    },
    {
      "cell_type": "code",
      "source": [
        "from functools import reduce\n",
        "\n",
        "numeros = [1,2,3,4,5,6]\n",
        "\n",
        "produto = reduce (lambda x,y: x*y, numeros)\n",
        "\n",
        "print (\"lista=\", numeros, \"\\n\\nproduto=\", produto)"
      ],
      "metadata": {
        "colab": {
          "base_uri": "https://localhost:8080/"
        },
        "id": "HXr1yvPDyOCD",
        "outputId": "610a7559-77ad-4abe-ec89-292ba2a0533c"
      },
      "execution_count": 15,
      "outputs": [
        {
          "output_type": "stream",
          "name": "stdout",
          "text": [
            "lista= [1, 2, 3, 4, 5, 6] \n",
            "\n",
            "produto= 720\n"
          ]
        }
      ]
    },
    {
      "cell_type": "markdown",
      "source": [
        "# **Função filter()**\n",
        "\n",
        "Realiza uma seleção (filtro) sobre os elementos da lista, seguindo uma condição apresentada na função passada como primeiro argumento. Se a função for atendida ela retorna true."
      ],
      "metadata": {
        "id": "aq9sOoM4y62V"
      }
    },
    {
      "cell_type": "code",
      "source": [
        "#retornando somente com os números pares da lista original\n",
        "\n",
        "valores = [ 2,5,14,15,12,18,19,22,36,34]\n",
        "\n",
        "pares = list(filter(lambda numero: not(numero % 2), valores))\n",
        "\n",
        "pares"
      ],
      "metadata": {
        "colab": {
          "base_uri": "https://localhost:8080/"
        },
        "id": "EuI5W7Wxzcb_",
        "outputId": "9fd3ba59-094e-4596-efb1-bff5c7a9e923"
      },
      "execution_count": 16,
      "outputs": [
        {
          "output_type": "execute_result",
          "data": {
            "text/plain": [
              "[2, 14, 12, 18, 22, 36, 34]"
            ]
          },
          "metadata": {},
          "execution_count": 16
        }
      ]
    },
    {
      "cell_type": "code",
      "source": [
        "# no caso do map() a função filter() pode ser facilmente substituida por uma lista compreehens\n",
        "\n",
        "pares_lc= [numero for numero in valores if numero % 2 == 0]\n",
        "pares_lc"
      ],
      "metadata": {
        "colab": {
          "base_uri": "https://localhost:8080/"
        },
        "id": "19iJmxhAzw9m",
        "outputId": "3bb86287-9ba9-4469-8541-63be9f38070b"
      },
      "execution_count": 17,
      "outputs": [
        {
          "output_type": "execute_result",
          "data": {
            "text/plain": [
              "[2, 14, 12, 18, 22, 36, 34]"
            ]
          },
          "metadata": {},
          "execution_count": 17
        }
      ]
    }
  ]
}